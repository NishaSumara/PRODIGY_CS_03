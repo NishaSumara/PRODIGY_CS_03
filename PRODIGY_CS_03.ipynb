{
 "cells": [
  {
   "cell_type": "code",
   "execution_count": null,
   "id": "66933351",
   "metadata": {},
   "outputs": [],
   "source": [
    "import re\n",
    "\n",
    "def check_password_complexity(password):\n",
    "   \n",
    "\n",
    "    # Check for at least one uppercase letter\n",
    "    if not re.search(r'[A-Z]', password):\n",
    "        return False\n",
    "\n",
    "    # Check for at least one lowercase letter\n",
    "    if not re.search(r'[a-z]', password):\n",
    "        return False\n",
    "\n",
    "    # Check for at least one digit\n",
    "    if not re.search(r'\\d', password):\n",
    "        return False\n",
    "\n",
    "    # Check for at least one special character\n",
    "    if not re.search(r'[!@#$%^&*(),.?\":{}|<>]', password):\n",
    "        return False\n",
    "\n",
    "    # Check for minimum length\n",
    "    if len(password) < 8:\n",
    "        return False\n",
    "\n",
    "    return True\n",
    "\n",
    "password=input(\"Enter the password\")\n",
    "print(\"password is :\",password)\n",
    "\n",
    "if check_password_complexity(password):\n",
    "    print(\"The password is complex enough.\")\n",
    "else:\n",
    "    print(\"The password is not complex enough.\")"
   ]
  },
  {
   "cell_type": "code",
   "execution_count": null,
   "id": "5f3dea2d",
   "metadata": {},
   "outputs": [],
   "source": []
  }
 ],
 "metadata": {
  "kernelspec": {
   "display_name": "Python 3 (ipykernel)",
   "language": "python",
   "name": "python3"
  },
  "language_info": {
   "codemirror_mode": {
    "name": "ipython",
    "version": 3
   },
   "file_extension": ".py",
   "mimetype": "text/x-python",
   "name": "python",
   "nbconvert_exporter": "python",
   "pygments_lexer": "ipython3",
   "version": "3.11.5"
  }
 },
 "nbformat": 4,
 "nbformat_minor": 5
}
